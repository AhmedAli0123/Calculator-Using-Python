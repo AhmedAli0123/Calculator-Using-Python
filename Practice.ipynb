{
  "nbformat": 4,
  "nbformat_minor": 0,
  "metadata": {
    "colab": {
      "provenance": [],
      "authorship_tag": "ABX9TyN2OPWvQeqJ1k5Y9A7/Os9e"
    },
    "kernelspec": {
      "name": "python3",
      "display_name": "Python 3"
    },
    "language_info": {
      "name": "python"
    }
  },
  "cells": [
    {
      "cell_type": "code",
      "execution_count": null,
      "metadata": {
        "colab": {
          "base_uri": "https://localhost:8080/"
        },
        "id": "G7-z9sl2szyl",
        "outputId": "7a10b405-0f24-4f45-a9b4-101cca2b39a4"
      },
      "outputs": [
        {
          "output_type": "stream",
          "name": "stdout",
          "text": [
            "My name is Ahmed and I'm 18 old\n"
          ]
        }
      ],
      "source": [
        "# F sting\n",
        "\n",
        "name:str=\"Ahmed\";\n",
        "age:int=18;\n",
        "print(f\"My name is {name} and I'm {age} old\")"
      ]
    },
    {
      "cell_type": "code",
      "source": [
        "my_name:str=\"Ahmed\"\n",
        "cuztomer:str=\"Mustafa\"\n",
        "\n",
        "# Dot String To Run the code multiple line\n",
        "email=f\"\"\"\n",
        "Hi\n",
        "{cuztomer}\n",
        "you got a free code\n",
        "Best Regards\n",
        "{my_name}\n",
        "\"\"\"\n",
        "print(email)"
      ],
      "metadata": {
        "colab": {
          "base_uri": "https://localhost:8080/"
        },
        "id": "25wgs9L3vRZj",
        "outputId": "0f6dd113-2141-4966-e52f-f9dc7ff0d349"
      },
      "execution_count": null,
      "outputs": [
        {
          "output_type": "stream",
          "name": "stdout",
          "text": [
            "\n",
            "Hi \n",
            "Mustafa\n",
            "you got a free code\n",
            "Best Regards \n",
            "Ahmed\n",
            "\n"
          ]
        }
      ]
    },
    {
      "cell_type": "code",
      "source": [
        "# Assginment 02\n",
        "\n",
        "faculty_member=12;\n",
        "admin_staff=4;\n",
        "student=100;\n",
        "absent_people=15\n",
        "per_person_rabri=250 #gram\n",
        "\n",
        "\n",
        "# Find the total num of people\n",
        "\n",
        "total_people = faculty_member+admin_staff+student-absent_people\n",
        "print(f\"The total number of people is {total_people}\") #101\n",
        "\n",
        "# How many gram of rabri make\n",
        "rabri = total_people*per_person_rabri\n",
        "print(f\"The total number of rabri is {rabri} gram\") #25250 Gram\n",
        "\n",
        "# In kilogram\n",
        "print(f\"The total number of rabri is {rabri/1000} kg\") #25.50 Gram\n"
      ],
      "metadata": {
        "colab": {
          "base_uri": "https://localhost:8080/"
        },
        "id": "X1RjsBLJxRmN",
        "outputId": "4e3e72cb-67b8-4d48-f5a4-cd93b3ab9e01"
      },
      "execution_count": 1,
      "outputs": [
        {
          "output_type": "stream",
          "name": "stdout",
          "text": [
            "The total number of people is 101\n",
            "The total number of rabri is 25250 gram\n",
            "The total number of rabri is 25.25 kg\n"
          ]
        }
      ]
    }
  ]
}